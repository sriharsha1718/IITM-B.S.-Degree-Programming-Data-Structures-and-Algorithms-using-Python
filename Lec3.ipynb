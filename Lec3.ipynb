{
  "nbformat": 4,
  "nbformat_minor": 0,
  "metadata": {
    "colab": {
      "provenance": [],
      "authorship_tag": "ABX9TyNcBanBn2NTZWOu3BA/33EP",
      "include_colab_link": true
    },
    "kernelspec": {
      "name": "python3",
      "display_name": "Python 3"
    },
    "language_info": {
      "name": "python"
    }
  },
  "cells": [
    {
      "cell_type": "markdown",
      "metadata": {
        "id": "view-in-github",
        "colab_type": "text"
      },
      "source": [
        "<a href=\"https://colab.research.google.com/github/sriharsha1718/IITM-B.S.-Degree-Programming-Data-Structures-and-Algorithms-using-Python/blob/main/Lec3.ipynb\" target=\"_parent\"><img src=\"https://colab.research.google.com/assets/colab-badge.svg\" alt=\"Open In Colab\"/></a>"
      ]
    },
    {
      "cell_type": "markdown",
      "source": [
        "## Computing first m prime numbers"
      ],
      "metadata": {
        "id": "ltNTK_cjqf6J"
      }
    },
    {
      "cell_type": "code",
      "execution_count": null,
      "metadata": {
        "colab": {
          "base_uri": "https://localhost:8080/"
        },
        "id": "q9oJ34JUcth5",
        "outputId": "5876a634-d3fb-48f4-c9cc-da16545e25b1"
      },
      "outputs": [
        {
          "output_type": "stream",
          "name": "stdout",
          "text": [
            "Enter the value of m: 50\n",
            "The first 50 prime numbers are: \n",
            "[2, 3, 5, 7, 11, 13, 17, 19, 23, 29, 31, 37, 41, 43, 47, 53, 59, 61, 67, 71, 73, 79, 83, 89, 97, 101, 103, 107, 109, 113, 127, 131, 137, 139, 149, 151, 157, 163, 167, 173, 179, 181, 191, 193, 197, 199, 211, 223, 227, 229]\n"
          ]
        }
      ],
      "source": [
        "def factors(n):\n",
        "  factorslist = []\n",
        "  for i in range(1, n+1):\n",
        "    if n%i==0:\n",
        "      factorslist.append(i)  \n",
        "  return factorslist\n",
        "\n",
        "\n",
        "def prime_numbers(m):\n",
        "  (i,count) = (1,0)\n",
        "  primes = []\n",
        "  while count < m:\n",
        "    if factors(i) == [1,i]:\n",
        "      (count, primes) = (count+1, primes+[i])\n",
        "    i = i+1\n",
        "  return primes\n",
        "\n",
        "\n",
        "m = int(input(\"Enter the value of m: \"))\n",
        "print(\"The first {} prime numbers are: \".format(m))\n",
        "print(prime_numbers(m))"
      ]
    },
    {
      "cell_type": "markdown",
      "source": [
        "## Computing Twin primes between 1 to 100"
      ],
      "metadata": {
        "id": "jRnv5HNIxMrh"
      }
    },
    {
      "cell_type": "code",
      "source": [
        "def factors(n):\n",
        "  factorslist = []\n",
        "  for j in range(1, n+1):\n",
        "    if n%j==0:\n",
        "      factorslist.append(j)\n",
        "  return factorslist\n",
        "\n",
        "\n",
        "def twin_primes():\n",
        "  primes = []\n",
        "  for i in range(1,100):\n",
        "    if factors(i) == [1,i]:\n",
        "      primes.append(i)\n",
        "\n",
        "  twins = []\n",
        "  for k in range(1, len(primes)):\n",
        "    if (primes[k] - primes[k-1]) == 2:\n",
        "      twins.append( (primes[k-1], primes[k]) )\n",
        "\n",
        "  return twins\n",
        "\n",
        "\n",
        "print(\"The twin primes between 1 to 100 are: \")\n",
        "print(twin_primes())\n",
        "print(\"The no of twin primes between 1 to 100 is: \", len(twin_primes()))"
      ],
      "metadata": {
        "colab": {
          "base_uri": "https://localhost:8080/"
        },
        "id": "CC9K6z2GxRq6",
        "outputId": "28dffb4b-dc94-47a0-b657-fdf90c204b32"
      },
      "execution_count": null,
      "outputs": [
        {
          "output_type": "stream",
          "name": "stdout",
          "text": [
            "The twin primes between 1 to 100 are: \n",
            "[(3, 5), (5, 7), (11, 13), (17, 19), (29, 31), (41, 43), (59, 61), (71, 73)]\n",
            "The no of twin primes between 1 to 100 is:  8\n"
          ]
        }
      ]
    }
  ]
}