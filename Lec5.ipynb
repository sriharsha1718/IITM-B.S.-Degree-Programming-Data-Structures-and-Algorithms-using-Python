{
  "nbformat": 4,
  "nbformat_minor": 0,
  "metadata": {
    "colab": {
      "provenance": [],
      "authorship_tag": "ABX9TyP20NDQUjdot/hVkZNunX9F",
      "include_colab_link": true
    },
    "kernelspec": {
      "name": "python3",
      "display_name": "Python 3"
    },
    "language_info": {
      "name": "python"
    }
  },
  "cells": [
    {
      "cell_type": "markdown",
      "metadata": {
        "id": "view-in-github",
        "colab_type": "text"
      },
      "source": [
        "<a href=\"https://colab.research.google.com/github/sriharsha1718/IITM-B.S.-Degree-Programming-Data-Structures-and-Algorithms-using-Python/blob/main/Lec5.ipynb\" target=\"_parent\"><img src=\"https://colab.research.google.com/assets/colab-badge.svg\" alt=\"Open In Colab\"/></a>"
      ]
    },
    {
      "cell_type": "markdown",
      "source": [
        "**Classes and Objects**"
      ],
      "metadata": {
        "id": "gi_5ejDA1gdh"
      }
    },
    {
      "cell_type": "code",
      "execution_count": 1,
      "metadata": {
        "colab": {
          "base_uri": "https://localhost:8080/"
        },
        "id": "yvdijadUkFSr",
        "outputId": "639690c4-3d19-4cdb-ee5b-b759bf1e3a10"
      },
      "outputs": [
        {
          "output_type": "stream",
          "name": "stdout",
          "text": [
            "Initialization: (0,0)\n",
            "After Translation: (5,12)\n",
            "The distance of point from the origin is:  13.0\n"
          ]
        }
      ],
      "source": [
        "#version 1\n",
        "class Point:\n",
        "  def __init__(self, a=0, b=0):\n",
        "    self.x = a\n",
        "    self.y = b\n",
        "    print(\"Initialization: \"+'('+str(self.x)+','+str(self.y)+')')\n",
        "\n",
        "  def translate(self, deltax, deltay):\n",
        "    self.x += deltax\n",
        "    self.y += deltay\n",
        "    print(\"After Translation: \"+'('+str(self.x)+','+str(self.y)+')')\n",
        "\n",
        "  def odistance(self):\n",
        "    import math\n",
        "    d = math.sqrt(self.x*self.x + self.y*self.y)\n",
        "    print(\"The distance of point from the origin is: \",d)\n",
        "\n",
        "p1 = Point()\n",
        "p1.translate(5,12)\n",
        "p1.odistance()"
      ]
    },
    {
      "cell_type": "code",
      "source": [
        "#version 2\n",
        "import math\n",
        "class Point:\n",
        "  def __init__(self, a=0, b=0):\n",
        "    self.r = math.sqrt(a*a + b*b)\n",
        "    if a==0:\n",
        "      self.theta = math.pi/2\n",
        "    else:\n",
        "      self.theta = math.atan(b/a)\n",
        "    print(\"The value of theta initially is: \",math.degrees(self.theta))\n",
        "  \n",
        "  def odistance(self):\n",
        "    print(\"The distance of the point from the origin is :\", self.r)\n",
        "\n",
        "  def translate(self, deltax, deltay):\n",
        "    x = self.r * math.cos(self.theta)\n",
        "    y = self.r * math.sin(self.theta)\n",
        "    x += deltax\n",
        "    y += deltay\n",
        "    self.r = math.sqrt(x*x + y*y)\n",
        "    if x==0:\n",
        "      self.theta = math.pi/2\n",
        "    else:\n",
        "      self.theta = math.atan(y/x)\n",
        "    print(\"The value of theta after translation is: \",math.degrees(self.theta))\n",
        "\n",
        "p2 = Point()\n",
        "p2.translate(5,12)\n",
        "p2.odistance()"
      ],
      "metadata": {
        "colab": {
          "base_uri": "https://localhost:8080/"
        },
        "id": "UAV0zMlAosMR",
        "outputId": "ca091df1-7318-4f6c-dc98-900160353672"
      },
      "execution_count": 2,
      "outputs": [
        {
          "output_type": "stream",
          "name": "stdout",
          "text": [
            "The value of theta initially is:  90.0\n",
            "The value of theta after translation is:  67.38013505195957\n",
            "The distance of the point from the origin is : 13.0\n"
          ]
        }
      ]
    }
  ]
}