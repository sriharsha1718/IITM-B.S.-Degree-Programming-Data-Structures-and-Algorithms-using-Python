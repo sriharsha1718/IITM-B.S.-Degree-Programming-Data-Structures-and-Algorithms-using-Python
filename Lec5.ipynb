{
  "nbformat": 4,
  "nbformat_minor": 0,
  "metadata": {
    "colab": {
      "provenance": [],
      "authorship_tag": "ABX9TyPh8q4OKywJRWL/E9mYtCwd",
      "include_colab_link": true
    },
    "kernelspec": {
      "name": "python3",
      "display_name": "Python 3"
    },
    "language_info": {
      "name": "python"
    }
  },
  "cells": [
    {
      "cell_type": "markdown",
      "metadata": {
        "id": "view-in-github",
        "colab_type": "text"
      },
      "source": [
        "<a href=\"https://colab.research.google.com/github/sriharsha1718/IITM-B.S.-Degree-Programming-Data-Structures-and-Algorithms-using-Python/blob/main/Lec5.ipynb\" target=\"_parent\"><img src=\"https://colab.research.google.com/assets/colab-badge.svg\" alt=\"Open In Colab\"/></a>"
      ]
    },
    {
      "cell_type": "markdown",
      "source": [
        "**Classes and Objects**"
      ],
      "metadata": {
        "id": "gi_5ejDA1gdh"
      }
    },
    {
      "cell_type": "code",
      "execution_count": 1,
      "metadata": {
        "colab": {
          "base_uri": "https://localhost:8080/"
        },
        "id": "yvdijadUkFSr",
        "outputId": "96d63dd8-d31a-455b-c996-af8445aa21a0"
      },
      "outputs": [
        {
          "output_type": "stream",
          "name": "stdout",
          "text": [
            "Initialization: (5,12)\n",
            "After Translation: (7,17)\n",
            "The distance of point from the origin is:  18.384776310850235\n"
          ]
        }
      ],
      "source": [
        "#version 1\n",
        "class Point:\n",
        "  def __init__(self, a=0, b=0):\n",
        "    self.x = a\n",
        "    self.y = b\n",
        "    print(\"Initialization: \"+'('+str(self.x)+','+str(self.y)+')')\n",
        "\n",
        "  def translate(self, deltax, deltay):\n",
        "    self.x += deltax\n",
        "    self.y += deltay\n",
        "    print(\"After Translation: \"+'('+str(self.x)+','+str(self.y)+')')\n",
        "\n",
        "  def odistance(self):\n",
        "    import math\n",
        "    d = math.sqrt(self.x*self.x + self.y*self.y)\n",
        "    print(\"The distance of point from the origin is: \",d)\n",
        "\n",
        "p1 = Point(5,12)\n",
        "p1.translate(2,5)\n",
        "p1.odistance()"
      ]
    },
    {
      "cell_type": "code",
      "source": [
        "#version 2\n",
        "import math\n",
        "class Point:\n",
        "  def __init__(self, a=0, b=0):\n",
        "    self.r = math.sqrt(a*a + b*b)\n",
        "    if a==0:\n",
        "      self.theta = math.pi/2\n",
        "    else:\n",
        "      self.theta = math.atan(b/a)\n",
        "    print(\"The value of theta initially is: \",math.degrees(self.theta))\n",
        "  \n",
        "  def odistance(self):\n",
        "    print(\"The distance of the point from the origin is :\", self.r)\n",
        "\n",
        "  def translate(self, deltax, deltay):\n",
        "    x = self.r * math.cos(self.theta)\n",
        "    y = self.r * math.sin(self.theta)\n",
        "    x += deltax\n",
        "    y += deltay\n",
        "    self.r = math.sqrt(x*x + y*y)\n",
        "    if x==0:\n",
        "      self.theta = math.pi/2\n",
        "    else:\n",
        "      self.theta = math.atan(y/x)\n",
        "    print(\"The value of theta after translation is: \",math.degrees(self.theta))\n",
        "\n",
        "p2 = Point(1,2)\n",
        "p2.translate(2,2)\n",
        "p2.odistance()"
      ],
      "metadata": {
        "colab": {
          "base_uri": "https://localhost:8080/"
        },
        "id": "UAV0zMlAosMR",
        "outputId": "1d431f02-bf68-4c71-d329-ca1392548545"
      },
      "execution_count": 2,
      "outputs": [
        {
          "output_type": "stream",
          "name": "stdout",
          "text": [
            "The value of theta initially is:  63.43494882292201\n",
            "The value of theta after translation is:  53.13010235415598\n",
            "The distance of the point from the origin is : 5.0\n"
          ]
        }
      ]
    },
    {
      "cell_type": "code",
      "source": [
        "class Point1:\n",
        "  def __init__(self, a=0, b=0):\n",
        "    self.x = a\n",
        "    self.y = b\n",
        "    print(\"Initialization: \"+'('+str(self.x)+','+str(self.y)+')')\n",
        "\n",
        "  def translate(self, deltax, deltay):\n",
        "    self.x += deltax\n",
        "    self.y += deltay\n",
        "    print('After the translation the points are: '+'('+str(self.x)+','+str(self.y)+')')\n",
        "\n",
        "  def odistance(self):\n",
        "    import math\n",
        "    d = math.sqrt(self.x*self.x + self.y*self.y)\n",
        "    return d\n",
        "\n",
        "  def __str__(self):\n",
        "    return('('+str(self.x)+','+str(self.y)+')')\n",
        "\n",
        "  def __add__(self,p):\n",
        "    return (Point1(self.x+p.x, self.y+p.y))\n",
        "\n",
        "p = Point1(3,4)\n",
        "p.translate(2,8)\n",
        "print(\"The distance of point from origin is: \", p.odistance())\n",
        "\n",
        "q = Point1(7,10)\n",
        "r = Point1(1,2)"
      ],
      "metadata": {
        "id": "IvEGVS4mYt9y",
        "outputId": "08f67fe3-ede2-4455-8c0e-f1a18d062c77",
        "colab": {
          "base_uri": "https://localhost:8080/"
        }
      },
      "execution_count": 3,
      "outputs": [
        {
          "output_type": "stream",
          "name": "stdout",
          "text": [
            "Initialization: (3,4)\n",
            "After the translation the points are: (5,12)\n",
            "The distance of point from origin is:  13.0\n",
            "Initialization: (7,10)\n",
            "Initialization: (1,2)\n"
          ]
        }
      ]
    },
    {
      "cell_type": "code",
      "source": [
        "print(p)"
      ],
      "metadata": {
        "id": "awN0lF6RaguM",
        "outputId": "ff3ad21d-bf00-4db7-fb65-73d952e031dc",
        "colab": {
          "base_uri": "https://localhost:8080/"
        }
      },
      "execution_count": 4,
      "outputs": [
        {
          "output_type": "stream",
          "name": "stdout",
          "text": [
            "(5,12)\n"
          ]
        }
      ]
    },
    {
      "cell_type": "code",
      "source": [
        "print(p+q)"
      ],
      "metadata": {
        "id": "ylh7lkUyd_w9",
        "outputId": "25e25ae2-eb7a-4da4-a6ce-bfa3518cefde",
        "colab": {
          "base_uri": "https://localhost:8080/"
        }
      },
      "execution_count": 5,
      "outputs": [
        {
          "output_type": "stream",
          "name": "stdout",
          "text": [
            "Initialization: (12,22)\n",
            "(12,22)\n"
          ]
        }
      ]
    },
    {
      "cell_type": "code",
      "source": [
        "print(p+r+q)"
      ],
      "metadata": {
        "id": "0I-X0sybd8GB",
        "outputId": "ccc36ce6-b439-433d-bfe0-1664fb8bc15a",
        "colab": {
          "base_uri": "https://localhost:8080/"
        }
      },
      "execution_count": 6,
      "outputs": [
        {
          "output_type": "stream",
          "name": "stdout",
          "text": [
            "Initialization: (6,14)\n",
            "Initialization: (13,24)\n",
            "(13,24)\n"
          ]
        }
      ]
    }
  ]
}