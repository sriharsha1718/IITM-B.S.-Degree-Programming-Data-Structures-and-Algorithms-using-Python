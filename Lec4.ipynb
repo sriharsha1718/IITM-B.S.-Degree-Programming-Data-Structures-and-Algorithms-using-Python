{
  "nbformat": 4,
  "nbformat_minor": 0,
  "metadata": {
    "colab": {
      "provenance": [],
      "authorship_tag": "ABX9TyP6hwj/NuS8ux/cbBuINgwm",
      "include_colab_link": true
    },
    "kernelspec": {
      "name": "python3",
      "display_name": "Python 3"
    },
    "language_info": {
      "name": "python"
    }
  },
  "cells": [
    {
      "cell_type": "markdown",
      "metadata": {
        "id": "view-in-github",
        "colab_type": "text"
      },
      "source": [
        "<a href=\"https://colab.research.google.com/github/sriharsha1718/IITM-B.S.-Degree-Programming-Data-Structures-and-Algorithms-using-Python/blob/main/Lec4.ipynb\" target=\"_parent\"><img src=\"https://colab.research.google.com/assets/colab-badge.svg\" alt=\"Open In Colab\"/></a>"
      ]
    },
    {
      "cell_type": "markdown",
      "source": [
        "## Finding GCD of two numbers using Recursion"
      ],
      "metadata": {
        "id": "Nk2CNeC9NH1o"
      }
    },
    {
      "cell_type": "code",
      "execution_count": null,
      "metadata": {
        "colab": {
          "base_uri": "https://localhost:8080/"
        },
        "id": "FE2PZSiyM9sb",
        "outputId": "ee8432b6-17b9-4e7d-947a-6507ad6dda14"
      },
      "outputs": [
        {
          "output_type": "stream",
          "name": "stdout",
          "text": [
            "Enter the values of a and b: 97 2\n",
            "Iteration no: 0\n",
            "Iteration no: 1\n",
            "Iteration no: 2\n",
            "Iteration no: 3\n",
            "Iteration no: 4\n",
            "Iteration no: 5\n",
            "Iteration no: 6\n",
            "Iteration no: 7\n",
            "Iteration no: 8\n",
            "Iteration no: 9\n",
            "Iteration no: 10\n",
            "Iteration no: 11\n",
            "Iteration no: 12\n",
            "Iteration no: 13\n",
            "Iteration no: 14\n",
            "Iteration no: 15\n",
            "Iteration no: 16\n",
            "Iteration no: 17\n",
            "Iteration no: 18\n",
            "Iteration no: 19\n",
            "Iteration no: 20\n",
            "Iteration no: 21\n",
            "Iteration no: 22\n",
            "Iteration no: 23\n",
            "Iteration no: 24\n",
            "Iteration no: 25\n",
            "Iteration no: 26\n",
            "Iteration no: 27\n",
            "Iteration no: 28\n",
            "Iteration no: 29\n",
            "Iteration no: 30\n",
            "Iteration no: 31\n",
            "Iteration no: 32\n",
            "Iteration no: 33\n",
            "Iteration no: 34\n",
            "Iteration no: 35\n",
            "Iteration no: 36\n",
            "Iteration no: 37\n",
            "Iteration no: 38\n",
            "Iteration no: 39\n",
            "Iteration no: 40\n",
            "Iteration no: 41\n",
            "Iteration no: 42\n",
            "Iteration no: 43\n",
            "Iteration no: 44\n",
            "Iteration no: 45\n",
            "Iteration no: 46\n",
            "Iteration no: 47\n",
            "The gcd of 97 and 2 is : 1\n"
          ]
        }
      ],
      "source": [
        "def gcd(a,b,iter):\n",
        "  (a, b) = (max(a,b), min(a,b))\n",
        "  if a%b==0:\n",
        "    return b\n",
        "  else:\n",
        "    print(\"Iteration no: {}\".format(iter))\n",
        "    iter = iter+1\n",
        "    return gcd(b, a-b, iter)\n",
        "\n",
        "\n",
        "a, b = map(int, input('Enter the values of a and b: ').split())\n",
        "iter = 0\n",
        "print(\"The gcd of {} and {} is : {}\".format(a,b,gcd(a,b,iter)))"
      ]
    },
    {
      "cell_type": "markdown",
      "source": [
        "## Euclid's Algorithm (Better Approach)\n",
        "* suppose q does not divide p\n",
        "* p = qn + r (dividend = divisor * quotient + remainder)\n",
        "* ad = bdn + r so r must be of form cd\n",
        "* Therefore the remainder of p%q is also divisible by d"
      ],
      "metadata": {
        "id": "MLreixDcPNft"
      }
    },
    {
      "cell_type": "code",
      "source": [
        "def gcd(p,q,iter):\n",
        "  (p,q) = (max(p,q), min(p,q))\n",
        "  if p%q==0:\n",
        "    return q\n",
        "  else:\n",
        "    print(\"iteration no: {}\".format(iter))\n",
        "    iter = iter + 1\n",
        "    return gcd(q, p%q, iter)\n",
        "\n",
        "p, q = map(int, input(\"Enter the values of p and q: \").split())\n",
        "iter=0\n",
        "print(\"The gcd of {} and {} is {}\".format(p,q, gcd(p,q,iter)))"
      ],
      "metadata": {
        "colab": {
          "base_uri": "https://localhost:8080/"
        },
        "id": "OD62Pa-lPThI",
        "outputId": "c60a5cd1-43a1-4168-e830-ae22c357e50d"
      },
      "execution_count": null,
      "outputs": [
        {
          "output_type": "stream",
          "name": "stdout",
          "text": [
            "Enter the values of p and q: 2 97\n",
            "iteration no: 0\n",
            "The gcd of 2 and 97 is 1\n"
          ]
        }
      ]
    }
  ]
}
