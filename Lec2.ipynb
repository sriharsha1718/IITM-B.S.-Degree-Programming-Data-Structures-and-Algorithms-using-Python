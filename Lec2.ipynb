{
  "nbformat": 4,
  "nbformat_minor": 0,
  "metadata": {
    "colab": {
      "provenance": [],
      "authorship_tag": "ABX9TyNIAQXGVPZ9XU4Ym/pFKo0T",
      "include_colab_link": true
    },
    "kernelspec": {
      "name": "python3",
      "display_name": "Python 3"
    },
    "language_info": {
      "name": "python"
    }
  },
  "cells": [
    {
      "cell_type": "markdown",
      "metadata": {
        "id": "view-in-github",
        "colab_type": "text"
      },
      "source": [
        "<a href=\"https://colab.research.google.com/github/sriharsha1718/IITM-B.S.-Degree-Programming-Data-Structures-and-Algorithms-using-Python/blob/main/Lec2.ipynb\" target=\"_parent\"><img src=\"https://colab.research.google.com/assets/colab-badge.svg\" alt=\"Open In Colab\"/></a>"
      ]
    },
    {
      "cell_type": "markdown",
      "source": [
        "## Computing GCD or HCF"
      ],
      "metadata": {
        "id": "2cTtQWz5YjbL"
      }
    },
    {
      "cell_type": "code",
      "execution_count": 4,
      "metadata": {
        "colab": {
          "base_uri": "https://localhost:8080/"
        },
        "id": "H7we9k6AYeqQ",
        "outputId": "688ae3fc-e865-4a77-9b92-28cf71e79b2d"
      },
      "outputs": [
        {
          "output_type": "stream",
          "name": "stdout",
          "text": [
            "Enter the values of m and n: 18 25\n",
            "The gcd (Greatest Common Divisor) of 18 and 25 is: 1\n"
          ]
        }
      ],
      "source": [
        "#method 1\n",
        "def gcd(m,n):\n",
        "  for i in range(1, min(m,n)+1):\n",
        "    if m%i==0 and n%i==0:\n",
        "      hcf = i\n",
        "  return hcf\n",
        "\n",
        "m, n = map(int, input(\"Enter the values of m and n: \").split())\n",
        "print(\"The gcd (Greatest Common Divisor) of {} and {} is: {}\".format(m,n,gcd(m,n)))"
      ]
    },
    {
      "cell_type": "code",
      "source": [
        "#method 2\n",
        "def hcf(p,q):\n",
        "  common_factors = []\n",
        "  for i in range(1, min(p,q)+1):\n",
        "    if p%i==0 and q%i==0:\n",
        "      common_factors.append(i)\n",
        "  print(\"The hcf of {} and {} is: {}\".format(p,q,common_factors[-1]))\n",
        "\n",
        "p, q = map(int, input(\"Enter the values of p and q: \").split())\n",
        "hcf(p,q)"
      ],
      "metadata": {
        "colab": {
          "base_uri": "https://localhost:8080/"
        },
        "id": "HNClrcE9Zx1E",
        "outputId": "589d89c1-25be-4e7c-efe9-62cd62884fb0"
      },
      "execution_count": 3,
      "outputs": [
        {
          "output_type": "stream",
          "name": "stdout",
          "text": [
            "Enter the values of p and q: 8 12\n",
            "The hcf of 8 and 12 is 4\n"
          ]
        }
      ]
    }
  ]
}