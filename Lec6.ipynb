{
  "nbformat": 4,
  "nbformat_minor": 0,
  "metadata": {
    "colab": {
      "provenance": [],
      "authorship_tag": "ABX9TyN/GAM/30m70xhfEMLDCB7w",
      "include_colab_link": true
    },
    "kernelspec": {
      "name": "python3",
      "display_name": "Python 3"
    },
    "language_info": {
      "name": "python"
    }
  },
  "cells": [
    {
      "cell_type": "markdown",
      "metadata": {
        "id": "view-in-github",
        "colab_type": "text"
      },
      "source": [
        "<a href=\"https://colab.research.google.com/github/sriharsha1718/IITM-B.S.-Degree-Programming-Data-Structures-and-Algorithms-using-Python/blob/main/Lec6.ipynb\" target=\"_parent\"><img src=\"https://colab.research.google.com/assets/colab-badge.svg\" alt=\"Open In Colab\"/></a>"
      ]
    },
    {
      "cell_type": "markdown",
      "source": [
        "# **Timing Our Code**"
      ],
      "metadata": {
        "id": "5KpuBU8foOSw"
      }
    },
    {
      "cell_type": "code",
      "execution_count": null,
      "metadata": {
        "id": "7u0jfe4UlBHh"
      },
      "outputs": [],
      "source": [
        "#Basic template of class Timer\n",
        "import time\n",
        "\n",
        "class Timer:\n",
        "  def __init__(self):\n",
        "    self.start_time = 0\n",
        "    self.elapsed_time = 0\n",
        "\n",
        "  def start(self):\n",
        "    self.start_time = time.perf_counter()\n",
        "  \n",
        "  def stop(self):\n",
        "    self.elapsed_time = time.perf_counter() - self.start_time\n",
        "\n",
        "  def elapsed(self):\n",
        "    return self.elapsed_time"
      ]
    },
    {
      "cell_type": "code",
      "source": [
        "#A Timer Class\n",
        "import time\n",
        "\n",
        "class TimerError(Exception):\n",
        "  \"\"\"A custom exception used to report errors in use of Time class\"\"\"\n",
        "\n",
        "class Timer:\n",
        "  def __init__(self):\n",
        "    self.start_time = None\n",
        "    self.elapsed_time = None\n",
        "\n",
        "  def start(self):\n",
        "    \"\"\"Start a new timer\"\"\"\n",
        "    if self.start_time is not None:\n",
        "      raise TimerError(\"Timer is running. Use. stop().\")\n",
        "    self.start_time = time.perf_counter()\n",
        "\n",
        "  def stop(self):\n",
        "    \"\"\"Save the elapsed time and re-initialize timer\"\"\"\n",
        "    if self.start_time is None:\n",
        "      raise TimerError(\"Time is not running. Use. start()\")\n",
        "    self.elapsed_time = time.perf_counter() - self.start_time\n",
        "    self.start_time = None\n",
        "\n",
        "  def elapsed(self):\n",
        "    \"\"\"Report elapsed time\"\"\"\n",
        "    if self.elapsed_time is None:\n",
        "      raise TimerError(\"Timer has not been run yet. Use. start()\")\n",
        "    return self.elapsed_time\n",
        "\n",
        "  def __str__(self):\n",
        "    \"\"\"print() prints elapsed time\"\"\"\n",
        "    return str(self.elapsed_time)"
      ],
      "metadata": {
        "id": "fKqg17T5og6r"
      },
      "execution_count": null,
      "outputs": []
    },
    {
      "cell_type": "code",
      "source": [
        "t = Timer()\n",
        "for i in range(4, 9):\n",
        "  t.start()\n",
        "  n = 0\n",
        "  for j in range(10**i):\n",
        "    n = n + j\n",
        "  t.stop()\n",
        "  print(\"10^\"+str(i)+\" operations take \",t.elapsed(),\"seconds.\")"
      ],
      "metadata": {
        "colab": {
          "base_uri": "https://localhost:8080/"
        },
        "id": "wLIPyMGVyDmL",
        "outputId": "11706580-3ec2-4666-95fe-7ba8f9284789"
      },
      "execution_count": null,
      "outputs": [
        {
          "output_type": "stream",
          "name": "stdout",
          "text": [
            "10^4 operations take  0.00202164500001345 seconds.\n",
            "10^5 operations take  0.02405999199999087 seconds.\n",
            "10^6 operations take  0.15018956500000513 seconds.\n",
            "10^7 operations take  1.3859525760000224 seconds.\n",
            "10^8 operations take  14.367594330999964 seconds.\n"
          ]
        }
      ]
    }
  ]
}